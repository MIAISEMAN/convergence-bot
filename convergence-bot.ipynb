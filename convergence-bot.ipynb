{
 "cells": [
  {
   "cell_type": "code",
   "execution_count": 1,
   "metadata": {},
   "outputs": [],
   "source": [
    "#set up shitty model with jeopardy questions - idea being that i can replace the corpus later \n",
    "import pandas as pd #might want to use it\n",
    "import numpy as np #working with arrays/matrices after all! \n",
    "import gensim # Word embeddings\n",
    "import random #random choice for bot's first word\n",
    "from sklearn.metrics.pairwise import cosine_similarity"
   ]
  },
  {
   "cell_type": "markdown",
   "metadata": {},
   "source": [
    "Thoughts: How many times does a word appear? The computer should only choose the most common words. It can't repeat any of the user_input or the bot_input.\n",
    "\n",
    "Miles: look up most common english words in a word2vec model, use the top 20,000 words? 10,000? https://wordcounter.io/blog/how-many-words-does-the-average-person-know/   \n",
    "\n",
    "Distance: This could be helpful: https://stackoverflow.com/questions/32446703/find-closest-vector-from-a-list-of-vectors-python"
   ]
  },
  {
   "cell_type": "markdown",
   "metadata": {},
   "source": [
    "# Using GloVe"
   ]
  },
  {
   "cell_type": "code",
   "execution_count": 2,
   "metadata": {},
   "outputs": [],
   "source": [
    "#using numpy \n",
    "import numpy as np\n",
    "def load_glove_model(file):\n",
    "    print(\"Loading...\")\n",
    "    f = open(file,'r')\n",
    "    model = {}\n",
    "    for line in f:\n",
    "        whole_line = line.split()\n",
    "        words = whole_line[0]\n",
    "        embedding = np.array([float(val) for val in whole_line[1:]])\n",
    "        model[words] = embedding\n",
    "    print(\"Done.\",len(model),\" words loaded!\")\n",
    "    return model\n",
    "#help from https://stackoverflow.com/questions/37793118/load-pretrained-glove-vectors-in-python"
   ]
  },
  {
   "cell_type": "code",
   "execution_count": 5,
   "metadata": {
    "scrolled": true
   },
   "outputs": [
    {
     "name": "stdout",
     "output_type": "stream",
     "text": [
      "Loading...\n",
      "Done. 400000  words loaded!\n"
     ]
    }
   ],
   "source": [
    "model = load_glove_model('glove.6B/glove.6B.300d.txt')"
   ]
  },
  {
   "cell_type": "markdown",
   "metadata": {},
   "source": [
    "# Common English Words"
   ]
  },
  {
   "cell_type": "markdown",
   "metadata": {},
   "source": [
    "Create a list of common english words from https://www.ef.edu/english-resources/english-vocabulary/top-3000-words/ with help from https://www.reddit.com/r/learnpython/comments/1zcbi4/is_there_a_way_to_get_a_list_of_common_english/"
   ]
  },
  {
   "cell_type": "code",
   "execution_count": 3,
   "metadata": {},
   "outputs": [],
   "source": [
    "with open(\"common_words.txt\") as f:\n",
    "    cwordlist = []\n",
    "    for line in f:\n",
    "        cwordlist.append(line.strip().lower().replace('-',''))"
   ]
  },
  {
   "cell_type": "code",
   "execution_count": 6,
   "metadata": {},
   "outputs": [],
   "source": [
    "common_word_vectors = {}\n",
    "unvectorized_common_words = []\n",
    "for word in cwordlist:\n",
    "    if word in model.keys():\n",
    "        common_word_vectors[word] = model[word]\n",
    "    else:\n",
    "        unvectorized_common_words.append(word)"
   ]
  },
  {
   "cell_type": "code",
   "execution_count": 63,
   "metadata": {},
   "outputs": [
    {
     "data": {
      "text/plain": [
       "(1, 300)"
      ]
     },
     "execution_count": 63,
     "metadata": {},
     "output_type": "execute_result"
    }
   ],
   "source": [
    "#reshape the dictionary arrays \n",
    "common_word_vectors['truth'].shape\n",
    "\n",
    "for key, value in common_word_vectors.items():\n",
    "    common_word_vectors[key] = value.reshape(1,-1)\n",
    "    \n",
    "for key, value in model.items():\n",
    "    model[key] = value.reshape(1,-1)\n",
    "\n",
    "common_word_vectors['truth'].shape"
   ]
  },
  {
   "cell_type": "markdown",
   "metadata": {},
   "source": [
    "# Create the Game's Function"
   ]
  },
  {
   "cell_type": "code",
   "execution_count": null,
   "metadata": {},
   "outputs": [],
   "source": [
    "#function inputs\n",
    "#example input: \n",
    "user_input='string'\n",
    "user_dict = {0: user_input}\n",
    "bot_dict = {0: random.choice(cwordlist)}\n",
    "user_word_list = [user_input]\n",
    "bot_word_list = []\n",
    "#could explore ordered dictionaries: https://stackoverflow.com/questions/16125229/last-key-in-python-dictionary"
   ]
  },
  {
   "cell_type": "markdown",
   "metadata": {},
   "source": [
    "Eventual UI notes: \n",
    "- The user_response is going to be ignored until the end of the function. At the end of the function, we'll compare the user_response word with the bot_response word, and if they are the same then we'll have convergence. \n",
    "- The bot_response is the last word the bot said. -1 on the list\n",
    "- The user_response is the last word the user said. -1 on the user_word_list\n",
    "- The user_word_list[-2] is the word the user said LAST round. \n",
    "- The computer will say, \"I was thinking of new_bot_response. You said user_response[-1], so we got convergence/we still need to converge- what's the convergence of new_bot_response and user_repsonse[-1]?\"  \n",
    "- Look at Greg's slack message using input!"
   ]
  },
  {
   "cell_type": "code",
   "execution_count": 143,
   "metadata": {},
   "outputs": [],
   "source": [
    "def converge(user_input='str'):\n",
    "    \"\"\"Return a word that (hopefully, eventually) matches the user's next input word.\"\"\"\n",
    "    user_word_list.append(user_input)\n",
    "    #on the first round, bot_word_list is empty:\n",
    "    if len(bot_word_list) == 0: \n",
    "        bot_response = random.choice(cwordlist)\n",
    "        bot_word_list.append(bot_response)\n",
    "        print (f\"You said {user_word_list[-1]}, and I was thinking of {bot_response}! Let's try and converge.\")\n",
    "        print (bot_word_list) \n",
    "    else: \n",
    "        mean_vector = ((model[user_word_list[-2]] + model[bot_word_list[-1]])/2)\n",
    "        print (mean_vector)\n",
    "        #can add a clause here for no-repeats tomorrow! \n",
    "        for word, vector in common_word_vectors.items():\n",
    "            cos_sim_dict[float(cosine_similarity(mean_vector, vector))] = word\n",
    "        max_cos_sim = max(cos_sim_dict.keys())\n",
    "        print (max_cos_sim)\n",
    "        bot_response = cos_sim_dict[max_cos_sim]\n",
    "        bot_word_list.append(bot_response)\n",
    "        if bot_response == user_input:\n",
    "            print (f\":) You said {user_input}, and I was thinking of {bot_response}! CONVERGENCE!!!!! :) \")\n",
    "        else: \n",
    "            print (f\"You said {user_input}, but I was thinking of {bot_response}.\" \n",
    "                   f\" What's the convergence of {user_input} and {bot_response}?\")\n",
    "            print (bot_word_list)"
   ]
  },
  {
   "cell_type": "code",
   "execution_count": 157,
   "metadata": {},
   "outputs": [
    {
     "name": "stdout",
     "output_type": "stream",
     "text": [
      "You said potato, and I was thinking of unknown! Let's try and converge.\n",
      "['unknown']\n"
     ]
    }
   ],
   "source": [
    "#start the game \n",
    "user_word_list = []\n",
    "bot_word_list = [] \n",
    "\n",
    "converge('potato')"
   ]
  },
  {
   "cell_type": "code",
   "execution_count": 158,
   "metadata": {},
   "outputs": [
    {
     "name": "stdout",
     "output_type": "stream",
     "text": [
      "[[-0.190485    0.115442    0.3874      0.58464    -0.1852615   0.2241895\n",
      "  -0.256285   -0.04557625  0.050201   -0.632465   -0.0821285  -0.17401\n",
      "  -0.49926     0.21391    -0.011315   -0.455865    0.0798915   0.48433\n",
      "  -0.55844     0.266635   -0.296735    0.32793     0.12844464 -0.1217015\n",
      "  -0.313935   -0.0539955  -0.189805   -0.0100695   0.013735   -0.07123\n",
      "  -0.03383     0.485755   -0.196133   -0.0389065   0.025705    0.4368595\n",
      "  -0.0139665   0.519645   -0.273725    0.205455    0.275855   -0.04511\n",
      "   0.28137     0.203605    0.095648   -0.124402    0.607105   -0.36957\n",
      "  -0.13584     0.21921     0.481745   -0.0784185   0.107566    0.11845955\n",
      "  -0.138675   -0.084595   -0.13218     0.058055    0.388855    0.121241\n",
      "   0.20697135  0.09246     0.134286    0.236045   -0.32202    -0.163075\n",
      "  -0.258485    0.2905465  -0.401265   -0.00474     0.0529015   0.157625\n",
      "  -0.050475   -0.06325    -0.710565    0.1121235   0.2932125  -0.019942\n",
      "  -0.1024158   0.2566065  -0.097975    0.30941    -0.329925    0.483\n",
      "  -0.275765   -0.100035   -0.092245    0.044178    0.139855   -0.31853\n",
      "  -0.292505   -0.222403   -0.08235    -0.005845    0.17157     0.1430205\n",
      "  -0.221115    0.07821     0.3049495  -0.21046    -0.34838    -0.095715\n",
      "   0.227955   -0.006355   -0.278955    0.171407   -0.120485    0.00868\n",
      "  -0.349626    0.42607     0.102895    0.63475    -0.04176    -0.06575\n",
      "  -0.06624    -0.032775   -0.1549875   0.046455    0.582295   -0.29925\n",
      "   0.024935    0.158665   -0.036205    0.63816    -0.179395    0.1783405\n",
      "   0.102235    0.63346    -0.307985    0.193715    0.173449    0.770645\n",
      "   0.02778    -0.021455   -0.073105   -0.179145    0.229941    0.341735\n",
      "  -0.0928325   0.04731845 -0.086494    0.14609555 -0.329015   -0.243326\n",
      "   0.052354    0.057125    0.1656095  -0.182956   -0.37843    -0.142955\n",
      "  -0.296235    0.16782    -0.0859155  -0.158522    0.073005    0.018995\n",
      "  -0.22409795  0.0747615   0.29233    -0.2860365  -0.128036    0.04899\n",
      "   0.025975   -0.218246    0.30527    -0.0124515   0.02677     0.046557\n",
      "  -0.180105   -0.45609    -0.065945   -0.129305   -0.116425   -0.057561\n",
      "   0.165095    0.122287    0.19676    -0.254315    0.14366    -0.1470095\n",
      "  -0.0530535   0.189915   -0.09955    -0.2821785  -0.0569185  -0.165562\n",
      "   0.306655   -0.060015    0.095064   -0.29068     0.04809     0.433695\n",
      "   0.04679    -0.006055   -0.365095   -0.004525   -0.32628    -0.396005\n",
      "  -0.30916     0.2158275   0.3739465   0.084265    0.223871    0.08897\n",
      "   0.393115   -0.11703101  0.0965945   0.18284    -0.02422     0.225455\n",
      "   0.196245   -0.05499    -0.1239345  -0.099187   -0.14305     0.243945\n",
      "   0.24367    -0.069415    0.169685   -0.04308     0.0630895  -0.078195\n",
      "   0.039265   -0.31057    -0.356185   -0.183065    0.08782    -0.2334\n",
      "  -0.1582405  -0.01019    -0.103644    0.35753    -0.38543     0.253945\n",
      "   0.1661225   0.40349     0.228841    0.3051985  -0.253895    0.114025\n",
      "   0.163815    0.199115    0.372846   -0.21553    -0.616235   -0.085286\n",
      "   0.463755   -0.0888295   0.0174435  -0.36314     0.13466     0.213806\n",
      "  -0.520195   -0.0390505   0.723375    0.126483   -0.061215    0.07221455\n",
      "  -0.409355    0.0606705  -0.051275   -0.38684     0.335481    0.346485\n",
      "  -0.116426   -0.335855   -0.1368435   0.101865    0.04244     0.3186075\n",
      "  -0.068175   -0.152266    0.10167     0.17408     0.0841      0.111497\n",
      "  -1.08771    -0.224805   -0.3364255   0.233645   -0.447562   -0.28432\n",
      "  -0.0183175   0.1403477   0.0750875   0.129354    0.09002    -0.17532\n",
      "   0.141463    0.35245     0.26841    -0.31301     0.48155    -0.350404\n",
      "  -0.252085   -0.129365   -0.04959     0.1503725  -0.102535    0.477375  ]]\n",
      "0.9048967066295557\n",
      "You said eye, but I was thinking of king. What's the convergence of eye and king?\n",
      "['unknown', 'king']\n"
     ]
    }
   ],
   "source": [
    "converge('eye')"
   ]
  },
  {
   "cell_type": "code",
   "execution_count": null,
   "metadata": {},
   "outputs": [],
   "source": []
  }
 ],
 "metadata": {
  "kernelspec": {
   "display_name": "Python 3",
   "language": "python",
   "name": "python3"
  },
  "language_info": {
   "codemirror_mode": {
    "name": "ipython",
    "version": 3
   },
   "file_extension": ".py",
   "mimetype": "text/x-python",
   "name": "python",
   "nbconvert_exporter": "python",
   "pygments_lexer": "ipython3",
   "version": "3.7.3"
  }
 },
 "nbformat": 4,
 "nbformat_minor": 2
}
