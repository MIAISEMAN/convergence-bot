{
 "cells": [
  {
   "cell_type": "code",
   "execution_count": 1,
   "metadata": {},
   "outputs": [],
   "source": [
    "#set up shitty model with jeopardy questions - idea being that i can replace the corpus later \n",
    "import pandas as pd #might want to use it\n",
    "import numpy as np #working with arrays/matrices after all! \n",
    "import gensim # Word embeddings\n",
    "import random #random choice for bot's first word\n",
    "from sklearn.metrics.pairwise import cosine_similarity"
   ]
  },
  {
   "cell_type": "markdown",
   "metadata": {},
   "source": [
    "Thoughts: How many times does a word appear? The computer should only choose the most common words. It can't repeat any of the user_input or the bot_input.\n",
    "\n",
    "Miles: look up most common english words in a word2vec model, use the top 20,000 words? 10,000? https://wordcounter.io/blog/how-many-words-does-the-average-person-know/   \n",
    "\n",
    "Distance: This could be helpful: https://stackoverflow.com/questions/32446703/find-closest-vector-from-a-list-of-vectors-python"
   ]
  },
  {
   "cell_type": "markdown",
   "metadata": {},
   "source": [
    "# Using GloVe"
   ]
  },
  {
   "cell_type": "code",
   "execution_count": 2,
   "metadata": {},
   "outputs": [],
   "source": [
    "#using numpy \n",
    "import numpy as np\n",
    "def load_glove_model(file):\n",
    "    print(\"Loading...\")\n",
    "    f = open(file,'r')\n",
    "    model = {}\n",
    "    for line in f:\n",
    "        whole_line = line.split()\n",
    "        words = whole_line[0]\n",
    "        embedding = np.array([float(val) for val in whole_line[1:]])\n",
    "        model[words] = embedding\n",
    "    print(\"Done.\",len(model),\" words loaded!\")\n",
    "    return model\n",
    "#help from https://stackoverflow.com/questions/37793118/load-pretrained-glove-vectors-in-python"
   ]
  },
  {
   "cell_type": "code",
   "execution_count": 5,
   "metadata": {
    "scrolled": true
   },
   "outputs": [
    {
     "name": "stdout",
     "output_type": "stream",
     "text": [
      "Loading...\n",
      "Done. 400000  words loaded!\n"
     ]
    }
   ],
   "source": [
    "model = load_glove_model('glove.6B/glove.6B.300d.txt')"
   ]
  },
  {
   "cell_type": "markdown",
   "metadata": {},
   "source": [
    "# Common English Words"
   ]
  },
  {
   "cell_type": "markdown",
   "metadata": {},
   "source": [
    "Create a list of common english words from https://www.ef.edu/english-resources/english-vocabulary/top-3000-words/ with help from https://www.reddit.com/r/learnpython/comments/1zcbi4/is_there_a_way_to_get_a_list_of_common_english/"
   ]
  },
  {
   "cell_type": "code",
   "execution_count": 3,
   "metadata": {},
   "outputs": [],
   "source": [
    "with open(\"common_words.txt\") as f:\n",
    "    cwordlist = []\n",
    "    for line in f:\n",
    "        cwordlist.append(line.strip().lower().replace('-',''))"
   ]
  },
  {
   "cell_type": "code",
   "execution_count": 6,
   "metadata": {},
   "outputs": [],
   "source": [
    "common_word_vectors = {}\n",
    "unvectorized_common_words = []\n",
    "for word in cwordlist:\n",
    "    if word in model.keys():\n",
    "        common_word_vectors[word] = model[word]\n",
    "    else:\n",
    "        unvectorized_common_words.append(word)"
   ]
  },
  {
   "cell_type": "code",
   "execution_count": 63,
   "metadata": {},
   "outputs": [
    {
     "data": {
      "text/plain": [
       "(1, 300)"
      ]
     },
     "execution_count": 63,
     "metadata": {},
     "output_type": "execute_result"
    }
   ],
   "source": [
    "#reshape the dictionary arrays \n",
    "common_word_vectors['truth'].shape\n",
    "\n",
    "for key, value in common_word_vectors.items():\n",
    "    common_word_vectors[key] = value.reshape(1,-1)\n",
    "    \n",
    "for key, value in model.items():\n",
    "    model[key] = value.reshape(1,-1)\n",
    "\n",
    "common_word_vectors['truth'].shape"
   ]
  },
  {
   "cell_type": "markdown",
   "metadata": {},
   "source": [
    "# Create the Game's Function"
   ]
  },
  {
   "cell_type": "code",
   "execution_count": null,
   "metadata": {},
   "outputs": [],
   "source": [
    "#function inputs\n",
    "#example input: \n",
    "user_input='string'\n",
    "user_dict = {0: user_input}\n",
    "bot_dict = {0: random.choice(cwordlist)}\n",
    "user_word_list = [user_input]\n",
    "bot_word_list = []\n",
    "#could explore ordered dictionaries: https://stackoverflow.com/questions/16125229/last-key-in-python-dictionary"
   ]
  },
  {
   "cell_type": "markdown",
   "metadata": {},
   "source": [
    "Eventual UI notes: \n",
    "- The user_response is going to be ignored until the end of the function. At the end of the function, we'll compare the user_response word with the bot_response word, and if they are the same then we'll have convergence. \n",
    "- The bot_response is the last word the bot said. -1 on the list\n",
    "- The user_response is the last word the user said. -1 on the user_word_list\n",
    "- The user_word_list[-2] is the word the user said LAST round. \n",
    "- The computer will say, \"I was thinking of new_bot_response. You said user_response[-1], so we got convergence/we still need to converge- what's the convergence of new_bot_response and user_repsonse[-1]?\"  "
   ]
  },
  {
   "cell_type": "code",
   "execution_count": 130,
   "metadata": {},
   "outputs": [],
   "source": [
    "user_word_list = []\n",
    "bot_word_list = [] "
   ]
  },
  {
   "cell_type": "code",
   "execution_count": 131,
   "metadata": {},
   "outputs": [],
   "source": [
    "def converge(user_input='str'):\n",
    "    \"\"\"Return a word that (hopefully, eventually) matches the user's next input word.\"\"\"\n",
    "    user_word_list.append(user_input)\n",
    "    #on the first round, bot_word_list is empty:\n",
    "    if len(bot_word_list) == 0: \n",
    "        bot_response = random.choice(cwordlist)\n",
    "        bot_word_list.append(bot_response)\n",
    "        print (f\"You said {user_word_list[-1]}, and I was thinking of {bot_response}! Let's try and converge.\")\n",
    "        print (bot_word_list)\n",
    "    #on the next rounds, the bot_word_list is longer \n",
    "    else: \n",
    "        mean_vector = (model[user_word_list[-2]] #-1 is user_input, but we want to match the previous user_input\n",
    "                       + \n",
    "                       model[bot_word_list[-1]])/2\n",
    "        #can add a clause here for no-repeats tomorrow! \n",
    "        for word, vector in common_word_vectors.items():\n",
    "            cos_sim_dict[float(cosine_similarity(mean_vector, vector))] = word\n",
    "        max_cos_sim = max(cos_sim_dict.keys())\n",
    "        bot_response = cos_sim_dict[max_cos_sim]\n",
    "        bot_word_list.append(bot_response)\n",
    "        if bot_response == user_input:\n",
    "            print (f\":) You said {user_input}, and I was thinking of {bot_response}! CONVERGENCE!!!!! :) \")\n",
    "        else: \n",
    "            print (f\"You said {user_input}, but I was thinking of {bot_response}.\" \n",
    "                   f\" What's the convergence of {user_input} and {bot_response}?\")\n",
    "            print (bot_word_list)"
   ]
  },
  {
   "cell_type": "code",
   "execution_count": 132,
   "metadata": {},
   "outputs": [
    {
     "name": "stdout",
     "output_type": "stream",
     "text": [
      "You said banana, and I was thinking of expression! Let's try and converge.\n",
      "['expression']\n"
     ]
    }
   ],
   "source": [
    "converge('banana')"
   ]
  },
  {
   "cell_type": "code",
   "execution_count": 133,
   "metadata": {},
   "outputs": [
    {
     "name": "stdout",
     "output_type": "stream",
     "text": [
      "You said happy, but I was thinking of king. What's the convergence of happy and king?\n",
      "['expression', 'king']\n"
     ]
    }
   ],
   "source": [
    "converge('happy')"
   ]
  },
  {
   "cell_type": "code",
   "execution_count": null,
   "metadata": {},
   "outputs": [],
   "source": []
  }
 ],
 "metadata": {
  "kernelspec": {
   "display_name": "Python 3",
   "language": "python",
   "name": "python3"
  },
  "language_info": {
   "codemirror_mode": {
    "name": "ipython",
    "version": 3
   },
   "file_extension": ".py",
   "mimetype": "text/x-python",
   "name": "python",
   "nbconvert_exporter": "python",
   "pygments_lexer": "ipython3",
   "version": "3.7.3"
  }
 },
 "nbformat": 4,
 "nbformat_minor": 2
}
