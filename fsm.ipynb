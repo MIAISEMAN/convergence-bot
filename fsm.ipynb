{
 "cells": [
  {
   "cell_type": "code",
   "execution_count": 47,
   "metadata": {},
   "outputs": [],
   "source": [
    "#set up shitty model with jeopardy questions - idea being that i can replace the corpus later \n",
    "import pandas as pd #might want to use it\n",
    "import numpy as np #working with arrays/matrices after all! \n",
    "import gensim # Word embeddings\n",
    "import random #random choice for bot's first word\n",
    "from sklearn.metrics.pairwise import cosine_similarity\n",
    "import convergence_resources as cr"
   ]
  },
  {
   "cell_type": "markdown",
   "metadata": {},
   "source": [
    "Thoughts: How many times does a word appear? The computer should only choose the most common words. It can't repeat any of the user_input or the bot_input.\n",
    "\n",
    "Miles: look up most common english words in a word2vec model, use the top 20,000 words? 10,000? https://wordcounter.io/blog/how-many-words-does-the-average-person-know/   \n",
    "\n",
    "Distance: This could be helpful: https://stackoverflow.com/questions/32446703/find-closest-vector-from-a-list-of-vectors-python"
   ]
  },
  {
   "cell_type": "markdown",
   "metadata": {},
   "source": [
    "# Using GloVe"
   ]
  },
  {
   "cell_type": "code",
   "execution_count": 2,
   "metadata": {},
   "outputs": [],
   "source": [
    "#using numpy \n",
    "import numpy as np\n",
    "def load_glove_model(file):\n",
    "    print(\"Loading...\")\n",
    "    f = open(file,'r')\n",
    "    model = {}\n",
    "    for line in f:\n",
    "        whole_line = line.split()\n",
    "        words = whole_line[0]\n",
    "        embedding = np.array([float(val) for val in whole_line[1:]])\n",
    "        model[words] = embedding\n",
    "    print(\"Done.\",len(model),\" words loaded!\")\n",
    "    return model\n",
    "#help from https://stackoverflow.com/questions/37793118/load-pretrained-glove-vectors-in-python"
   ]
  },
  {
   "cell_type": "code",
   "execution_count": 3,
   "metadata": {
    "scrolled": true
   },
   "outputs": [
    {
     "name": "stdout",
     "output_type": "stream",
     "text": [
      "Loading...\n",
      "Done. 400000  words loaded!\n"
     ]
    }
   ],
   "source": [
    "model = load_glove_model('glove.6B/glove.6B.300d.txt')"
   ]
  },
  {
   "cell_type": "markdown",
   "metadata": {},
   "source": [
    "# Common English Words"
   ]
  },
  {
   "cell_type": "markdown",
   "metadata": {},
   "source": [
    "Create a list of common english words from https://www.ef.edu/english-resources/english-vocabulary/top-3000-words/ with help from https://www.reddit.com/r/learnpython/comments/1zcbi4/is_there_a_way_to_get_a_list_of_common_english/"
   ]
  },
  {
   "cell_type": "code",
   "execution_count": 4,
   "metadata": {},
   "outputs": [],
   "source": [
    "with open(\"common_words.txt\") as f:\n",
    "    cwordlist = []\n",
    "    for line in f:\n",
    "        cwordlist.append(line.strip().lower().replace('-',''))"
   ]
  },
  {
   "cell_type": "code",
   "execution_count": 5,
   "metadata": {},
   "outputs": [],
   "source": [
    "common_word_vectors = {}\n",
    "unvectorized_common_words = []\n",
    "for word in cwordlist:\n",
    "    if word in model.keys():\n",
    "        common_word_vectors[word] = model[word]\n",
    "    else:\n",
    "        unvectorized_common_words.append(word)"
   ]
  },
  {
   "cell_type": "code",
   "execution_count": 6,
   "metadata": {},
   "outputs": [
    {
     "data": {
      "text/plain": [
       "(1, 300)"
      ]
     },
     "execution_count": 6,
     "metadata": {},
     "output_type": "execute_result"
    }
   ],
   "source": [
    "#reshape the dictionary arrays \n",
    "common_word_vectors['truth'].shape\n",
    "\n",
    "for key, value in common_word_vectors.items():\n",
    "    common_word_vectors[key] = value.reshape(1,-1)\n",
    "    \n",
    "for key, value in model.items():\n",
    "    model[key] = value.reshape(1,-1)\n",
    "\n",
    "common_word_vectors['truth'].shape"
   ]
  },
  {
   "cell_type": "markdown",
   "metadata": {},
   "source": [
    "# Create Functions"
   ]
  },
  {
   "cell_type": "code",
   "execution_count": 52,
   "metadata": {},
   "outputs": [],
   "source": [
    "#convergence function with two inputs  \n",
    "\n",
    "def converge(user_input=str, bot_input=str):\n",
    "    \"\"\"Return a word that returns \"average word\" of the input words.\"\"\"\n",
    "    mean_vector = ((model[user_input] + model[bot_input])/2)\n",
    "    cos_sim_dict = {}\n",
    "    response_options_dict = {key: common_word_vectors[key] for key in common_word_vectors \n",
    "                             if key not in [user_input, bot_input]}\n",
    "    for word, vector in response_options_dict.items():\n",
    "        cos_sim_dict[float(cosine_similarity(mean_vector, vector))] = word\n",
    "    max_cos_sim = max(cos_sim_dict.keys())\n",
    "    bot_response = cos_sim_dict[max_cos_sim]\n",
    "    return bot_response"
   ]
  },
  {
   "cell_type": "code",
   "execution_count": 35,
   "metadata": {},
   "outputs": [],
   "source": [
    "# no_repeats_list = [] #tracks the answers the user and bot have already said \n",
    "\n",
    "# def add_inputs_to_list(user_input=str, bot_input=str):\n",
    "#     \"\"\"Add both inputs to the list to track potential responses.\"\"\"\n",
    "#     no_repeats_list.append(user_input).append(bot_input)\n",
    "#     return no_repeats_list    \n",
    "    "
   ]
  },
  {
   "cell_type": "code",
   "execution_count": 58,
   "metadata": {
    "scrolled": true
   },
   "outputs": [
    {
     "data": {
      "text/plain": [
       "'hello'"
      ]
     },
     "execution_count": 58,
     "metadata": {},
     "output_type": "execute_result"
    }
   ],
   "source": [
    "converge('aloha', 'goodbye')"
   ]
  },
  {
   "cell_type": "code",
   "execution_count": 55,
   "metadata": {},
   "outputs": [
    {
     "data": {
      "text/plain": [
       "'god'"
      ]
     },
     "execution_count": 55,
     "metadata": {},
     "output_type": "execute_result"
    }
   ],
   "source": [
    "converge('hell', 'heaven')"
   ]
  }
 ],
 "metadata": {
  "kernelspec": {
   "display_name": "Python 3",
   "language": "python",
   "name": "python3"
  },
  "language_info": {
   "codemirror_mode": {
    "name": "ipython",
    "version": 3
   },
   "file_extension": ".py",
   "mimetype": "text/x-python",
   "name": "python",
   "nbconvert_exporter": "python",
   "pygments_lexer": "ipython3",
   "version": "3.7.3"
  }
 },
 "nbformat": 4,
 "nbformat_minor": 2
}
