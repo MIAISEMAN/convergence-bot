{
 "cells": [
  {
   "cell_type": "code",
   "execution_count": 3,
   "metadata": {},
   "outputs": [],
   "source": [
    "import pandas as pd #might want to use it\n",
    "import numpy as np #working with arrays/matrices after all! \n",
    "import gensim # Word embeddings\n",
    "import random #random choice for bot's first word\n",
    "from sklearn.metrics.pairwise import cosine_similarity\n",
    "import convergence_resources as cr"
   ]
  },
  {
   "cell_type": "markdown",
   "metadata": {},
   "source": [
    "Thoughts: How many times does a word appear? The computer should only choose the most common words. It can't repeat any of the user_input or the bot_input.\n",
    "\n",
    "Miles: look up most common english words in a word2vec model, use the top 20,000 words? 10,000? https://wordcounter.io/blog/how-many-words-does-the-average-person-know/   \n",
    "\n",
    "Distance: This could be helpful: https://stackoverflow.com/questions/32446703/find-closest-vector-from-a-list-of-vectors-python"
   ]
  },
  {
   "cell_type": "markdown",
   "metadata": {},
   "source": [
    "# Using GloVe"
   ]
  },
  {
   "cell_type": "code",
   "execution_count": 4,
   "metadata": {},
   "outputs": [],
   "source": [
    "#using numpy \n",
    "import numpy as np\n",
    "def load_glove_model(file):\n",
    "    print(\"Loading...\")\n",
    "    f = open(file,'r')\n",
    "    model = {}\n",
    "    for line in f:\n",
    "        whole_line = line.split()\n",
    "        words = whole_line[0]\n",
    "        embedding = np.array([float(val) for val in whole_line[1:]])\n",
    "        model[words] = embedding\n",
    "    print(\"Done.\",len(model),\" words loaded!\")\n",
    "    return model\n",
    "#help from https://stackoverflow.com/questions/37793118/load-pretrained-glove-vectors-in-python"
   ]
  },
  {
   "cell_type": "code",
   "execution_count": 5,
   "metadata": {
    "scrolled": true
   },
   "outputs": [
    {
     "name": "stdout",
     "output_type": "stream",
     "text": [
      "Loading...\n",
      "Done. 400000  words loaded!\n"
     ]
    }
   ],
   "source": [
    "model = load_glove_model('glove.6B/glove.6B.300d.txt')"
   ]
  },
  {
   "cell_type": "markdown",
   "metadata": {},
   "source": [
    "# Common English Words"
   ]
  },
  {
   "cell_type": "markdown",
   "metadata": {},
   "source": [
    "Create a list of common english words from https://www.ef.edu/english-resources/english-vocabulary/top-3000-words/ with help from https://www.reddit.com/r/learnpython/comments/1zcbi4/is_there_a_way_to_get_a_list_of_common_english/"
   ]
  },
  {
   "cell_type": "code",
   "execution_count": 6,
   "metadata": {},
   "outputs": [],
   "source": [
    "with open(\"common_words.txt\") as f:\n",
    "    cwordlist = []\n",
    "    for line in f:\n",
    "        cwordlist.append(line.strip().lower().replace('-',''))"
   ]
  },
  {
   "cell_type": "code",
   "execution_count": 7,
   "metadata": {},
   "outputs": [],
   "source": [
    "common_word_vectors = {}\n",
    "unvectorized_common_words = []\n",
    "for word in cwordlist:\n",
    "    if word in model.keys():\n",
    "        common_word_vectors[word] = model[word]\n",
    "    else:\n",
    "        unvectorized_common_words.append(word)"
   ]
  },
  {
   "cell_type": "code",
   "execution_count": 8,
   "metadata": {},
   "outputs": [
    {
     "data": {
      "text/plain": [
       "(1, 300)"
      ]
     },
     "execution_count": 8,
     "metadata": {},
     "output_type": "execute_result"
    }
   ],
   "source": [
    "#reshape the dictionary arrays \n",
    "common_word_vectors['truth'].shape\n",
    "\n",
    "for key, value in common_word_vectors.items():\n",
    "    common_word_vectors[key] = value.reshape(1,-1)\n",
    "    \n",
    "for key, value in model.items():\n",
    "    model[key] = value.reshape(1,-1)\n",
    "\n",
    "common_word_vectors['truth'].shape"
   ]
  },
  {
   "cell_type": "markdown",
   "metadata": {},
   "source": [
    "# Create Functions"
   ]
  },
  {
   "cell_type": "code",
   "execution_count": 24,
   "metadata": {},
   "outputs": [],
   "source": [
    "def converge(user_input=str, bot_input=str, exclude=None):\n",
    "    \"\"\"Return the \"average word\" of the input words.\"\"\"\n",
    "    if exclude is None:\n",
    "        exclude = set()\n",
    "    exclude.add(user_input)\n",
    "    exclude.add(bot_input)  \n",
    "    mean_vector = ((model[user_input] + model[bot_input])/2)\n",
    "    cos_sim_dict = {}\n",
    "    response_options_dict = {key: common_word_vectors[key] for key in common_word_vectors \n",
    "                             if key not in exclude}\n",
    "    for word, vector in response_options_dict.items():\n",
    "        cos_sim_dict[float(cosine_similarity(mean_vector, vector))] = word\n",
    "    max_cos_sim = max(cos_sim_dict.keys())\n",
    "    bot_response = cos_sim_dict[max_cos_sim]\n",
    "    return bot_response"
   ]
  },
  {
   "cell_type": "code",
   "execution_count": 25,
   "metadata": {},
   "outputs": [],
   "source": [
    "def play_round(user_input, user_history=None, bot_history=None):\n",
    "    if bot_history is None:\n",
    "        user_history = []\n",
    "        bot_history = []\n",
    "        bot_response = random.choice(cwordlist)\n",
    "    else:\n",
    "        bot_response = converge(user_history[-1], bot_history[-1], \n",
    "                                exclude=set(user_history + bot_history))\n",
    "    user_history.append(user_input)\n",
    "    bot_history.append(bot_response)\n",
    "    return {\n",
    "        'user_history': user_history,\n",
    "        'bot_history': bot_history,\n",
    "        'bot_response': bot_response,\n",
    "    }"
   ]
  },
  {
   "cell_type": "code",
   "execution_count": 26,
   "metadata": {},
   "outputs": [
    {
     "data": {
      "text/plain": [
       "'pet'"
      ]
     },
     "execution_count": 26,
     "metadata": {},
     "output_type": "execute_result"
    }
   ],
   "source": [
    "converge('cat', 'dog')"
   ]
  },
  {
   "cell_type": "code",
   "execution_count": 40,
   "metadata": {},
   "outputs": [
    {
     "data": {
      "text/plain": [
       "{'user_history': ['bus',\n",
       "  'government',\n",
       "  'compromise',\n",
       "  'discuss',\n",
       "  'engagement',\n",
       "  'ring'],\n",
       " 'bot_history': ['agreement',\n",
       "  'deal',\n",
       "  'plan',\n",
       "  'proposal',\n",
       "  'proposed',\n",
       "  'propose'],\n",
       " 'bot_response': 'propose'}"
      ]
     },
     "execution_count": 40,
     "metadata": {},
     "output_type": "execute_result"
    }
   ],
   "source": [
    "play_round('ring', user_history=['bus', 'government', 'compromise', 'discuss', 'engagement'], \n",
    "           bot_history=['agreement', 'deal', 'plan', 'proposal', 'proposed'] )"
   ]
  },
  {
   "cell_type": "code",
   "execution_count": null,
   "metadata": {},
   "outputs": [],
   "source": []
  }
 ],
 "metadata": {
  "kernelspec": {
   "display_name": "Python 3",
   "language": "python",
   "name": "python3"
  },
  "language_info": {
   "codemirror_mode": {
    "name": "ipython",
    "version": 3
   },
   "file_extension": ".py",
   "mimetype": "text/x-python",
   "name": "python",
   "nbconvert_exporter": "python",
   "pygments_lexer": "ipython3",
   "version": "3.7.3"
  }
 },
 "nbformat": 4,
 "nbformat_minor": 2
}
